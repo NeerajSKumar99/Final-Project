{
 "cells": [
  {
   "cell_type": "code",
   "execution_count": 1,
   "outputs": [],
   "source": [
    "import pandas as pd\n",
    "data = pd.read_excel(\"~/Downloads/deidentified_radiology_findings.xlsx\")\n",
    "# clean up text\n",
    "data.replace(to_replace=[r\"\\\\t|\\\\n|\\\\r\", \"\\t|\\n|\\r\"], value=[\"\",\"\"], regex=True, inplace=True)\n",
    "\n",
    "eval_data = data[pd.notnull(data[\"cxr_abnormal\"])]\n",
    "# Remove any unlabeled data with no findings text\n",
    "unlabeled_data = data.query(\"cxr_abnormal.isnull() & findings.notnull()\")"
   ],
   "metadata": {
    "collapsed": false
   }
  },
  {
   "cell_type": "code",
   "execution_count": 2,
   "outputs": [
    {
     "name": "stdout",
     "output_type": "stream",
     "text": [
      "124\n",
      "1760\n"
     ]
    }
   ],
   "source": [
    "print(len(eval_data))\n",
    "print(len(unlabeled_data))"
   ],
   "metadata": {
    "collapsed": false
   }
  },
  {
   "cell_type": "code",
   "execution_count": 3,
   "outputs": [],
   "source": [
    "eval_df = pd.DataFrame({\n",
    "    \"note_num\": eval_data[\"note_num\"],\n",
    "    \"label\": [int(val ==\"Yes\") for val in eval_data[\"cxr_abnormal\"]],\n",
    "    \"text\": eval_data[\"findings\"]\n",
    "})"
   ],
   "metadata": {
    "collapsed": false
   }
  },
  {
   "cell_type": "code",
   "execution_count": 4,
   "outputs": [
    {
     "data": {
      "text/plain": "    note_num  label                                               text\n77        78      1  frontal portable view reveals a small area of ...",
      "text/html": "<div>\n<style scoped>\n    .dataframe tbody tr th:only-of-type {\n        vertical-align: middle;\n    }\n\n    .dataframe tbody tr th {\n        vertical-align: top;\n    }\n\n    .dataframe thead th {\n        text-align: right;\n    }\n</style>\n<table border=\"1\" class=\"dataframe\">\n  <thead>\n    <tr style=\"text-align: right;\">\n      <th></th>\n      <th>note_num</th>\n      <th>label</th>\n      <th>text</th>\n    </tr>\n  </thead>\n  <tbody>\n    <tr>\n      <th>77</th>\n      <td>78</td>\n      <td>1</td>\n      <td>frontal portable view reveals a small area of ...</td>\n    </tr>\n  </tbody>\n</table>\n</div>"
     },
     "execution_count": 4,
     "metadata": {},
     "output_type": "execute_result"
    }
   ],
   "source": [
    "eval_df.query('text.str.contains(\"infiltrate\")')"
   ],
   "metadata": {
    "collapsed": false
   }
  },
  {
   "cell_type": "code",
   "execution_count": 5,
   "outputs": [],
   "source": [
    "train_df = pd.DataFrame({\n",
    "    \"note_num\": unlabeled_data[\"note_num\"],\n",
    "    \"label\": -1,\n",
    "    \"text\": unlabeled_data[\"findings\"],\n",
    "    \"lung_startpos\": unlabeled_data[\"findings\"].str.find(\"lungs:\"),\n",
    "    \"pleural1_startpos\": unlabeled_data[\"findings\"].str.find(\"pleura:\"),\n",
    "    \"pleural2_startpos\": unlabeled_data[\"findings\"].str.find(\"pleura/pleural space:\"),\n",
    "    \"pleural3_startpos\": unlabeled_data[\"findings\"].str.find(\"pleura and pleural surfaces:\"),\n",
    "    \"pleural4_startpos\": unlabeled_data[\"findings\"].str.find(\"lungs/pleural space:\"),\n",
    "    \"pleural5_startpos\": unlabeled_data[\"findings\"].str.find(\"lungs/pleura/pleural space:\"),\n",
    "    \"pleural6_startpos\": unlabeled_data[\"findings\"].str.find(\"lungs/pleura:\"),\n",
    "    \"heart1_startpos\": unlabeled_data[\"findings\"].str.find(\"heart:\"),\n",
    "    \"heart2_startpos\": unlabeled_data[\"findings\"].str.find(\"heart and mediastinum:\"),\n",
    "    \"airway1_startpos\": unlabeled_data[\"findings\"].str.find(\"central airways:\"),\n",
    "    \"thorax1_startpos\": unlabeled_data[\"findings\"].str.find(\"bones and soft tissues of the thorax:\"),\n",
    "    \"thorax2_startpos\": unlabeled_data[\"findings\"].str.find(\"bones of the thorax:\"),\n",
    "    \"bones1_startpos\": unlabeled_data[\"findings\"].str.find(\"bones and soft tissues:\")\n",
    "})"
   ],
   "metadata": {
    "collapsed": false
   }
  },
  {
   "cell_type": "code",
   "execution_count": 6,
   "outputs": [
    {
     "data": {
      "text/plain": "     note_num  label                                               text  \\\n742       743     -1  tubes and catheters: none seen. central airway...   \n\n     lung_startpos  pleural1_startpos  pleural2_startpos  pleural3_startpos  \\\n742            158                 -1                 -1                284   \n\n     pleural4_startpos  pleural5_startpos  pleural6_startpos  heart1_startpos  \\\n742                 -1                 -1                 -1               -1   \n\n     heart2_startpos  airway1_startpos  thorax1_startpos  thorax2_startpos  \\\n742               63                32               334                -1   \n\n     bones1_startpos  \n742               -1  ",
      "text/html": "<div>\n<style scoped>\n    .dataframe tbody tr th:only-of-type {\n        vertical-align: middle;\n    }\n\n    .dataframe tbody tr th {\n        vertical-align: top;\n    }\n\n    .dataframe thead th {\n        text-align: right;\n    }\n</style>\n<table border=\"1\" class=\"dataframe\">\n  <thead>\n    <tr style=\"text-align: right;\">\n      <th></th>\n      <th>note_num</th>\n      <th>label</th>\n      <th>text</th>\n      <th>lung_startpos</th>\n      <th>pleural1_startpos</th>\n      <th>pleural2_startpos</th>\n      <th>pleural3_startpos</th>\n      <th>pleural4_startpos</th>\n      <th>pleural5_startpos</th>\n      <th>pleural6_startpos</th>\n      <th>heart1_startpos</th>\n      <th>heart2_startpos</th>\n      <th>airway1_startpos</th>\n      <th>thorax1_startpos</th>\n      <th>thorax2_startpos</th>\n      <th>bones1_startpos</th>\n    </tr>\n  </thead>\n  <tbody>\n    <tr>\n      <th>742</th>\n      <td>743</td>\n      <td>-1</td>\n      <td>tubes and catheters: none seen. central airway...</td>\n      <td>158</td>\n      <td>-1</td>\n      <td>-1</td>\n      <td>284</td>\n      <td>-1</td>\n      <td>-1</td>\n      <td>-1</td>\n      <td>-1</td>\n      <td>63</td>\n      <td>32</td>\n      <td>334</td>\n      <td>-1</td>\n      <td>-1</td>\n    </tr>\n  </tbody>\n</table>\n</div>"
     },
     "execution_count": 6,
     "metadata": {},
     "output_type": "execute_result"
    }
   ],
   "source": [
    "train_df[train_df[\"note_num\"] == 743]"
   ],
   "metadata": {
    "collapsed": false
   }
  },
  {
   "cell_type": "code",
   "execution_count": 7,
   "outputs": [],
   "source": [
    "def parse_lung_text(row):\n",
    "    row_data = row.to_dict()\n",
    "    start_pos = row_data[\"lung_startpos\"]\n",
    "    if start_pos > -1:\n",
    "        pos = [val for key, val in row_data.items() if key.endswith(\"_startpos\") and val > start_pos]\n",
    "        #if len(pos) == 0:\n",
    "        #    print(row_data)\n",
    "        end_pos = int(min(pos))\n",
    "        start_pos = int(start_pos)\n",
    "        return row.text[start_pos:end_pos]\n",
    "    else:\n",
    "        return \"\"\n",
    "\n",
    "def parse_pleura_text(row):\n",
    "    row_data = row.to_dict()\n",
    "    pos = [val for key, val in row_data.items() if key.startswith(\"pleural\") and val > -1]\n",
    "    if len(pos) > 0:\n",
    "        start_pos = int(min(pos))\n",
    "        end_pos = len(row.text)\n",
    "        pos = [val for key, val in row_data.items() if key.endswith(\"_startpos\") and not key.startswith(\"pleural\") and val > start_pos]\n",
    "        if len(pos) > 0:\n",
    "            end_pos = int(min(pos))\n",
    "        #else:\n",
    "        #    print(row_data)\n",
    "        return row.text[start_pos:end_pos]\n",
    "    else:\n",
    "        return \"\"\n",
    "\n",
    "def parse_lungpleura_text(row):\n",
    "    if row.lungpleura_startpos > -1:\n",
    "        return row.text[int(row.lungpleura_startpos):int(row.heart_startpos)]\n",
    "    else:\n",
    "        return \"\"\n",
    "\n",
    "train_df[\"lung_text\"] = train_df.apply(parse_lung_text, axis = 1)\n",
    "train_df[\"pleura_text\"] = train_df.apply(parse_pleura_text, axis = 1)\n",
    "#train_df[\"lungpleura_text\"] = train_df.apply(parse_lungpleura_text, axis = 1)"
   ],
   "metadata": {
    "collapsed": false
   }
  },
  {
   "cell_type": "code",
   "execution_count": 8,
   "outputs": [
    {
     "data": {
      "text/plain": "      note_num  label                                               text  \\\n124        125     -1  tubes and catheters: none. central airways: no...   \n125        126     -1  tubes and catheters: none. central airways: no...   \n126        127     -1  tubes and catheters: none. lungs/pleura/pleura...   \n127        128     -1  tubes and catheters: none. central airways: no...   \n128        129     -1  tubes and catheters: none. central airways: no...   \n...        ...    ...                                                ...   \n1889      1890     -1  tubes and catheters: none. central airways: no...   \n1890      1891     -1  tubes and catheters: none. central airways: no...   \n1891      1892     -1  tubes and catheters: none. central airways: no...   \n1892      1893     -1  tubes and catheters: none. central airways: no...   \n1893      1894     -1  tubes and catheters: none. central airways: no...   \n\n      lung_startpos  pleural1_startpos  pleural2_startpos  pleural3_startpos  \\\n124              -1                 -1                 58                 -1   \n125              52                 -1                159                 -1   \n126              -1                 -1                 33                 -1   \n127              -1                 58                 -1                 -1   \n128              -1                 -1                 58                 -1   \n...             ...                ...                ...                ...   \n1889             52                 -1                160                 -1   \n1890             -1                 -1                 58                 -1   \n1891             52                 -1                107                 -1   \n1892             -1                 -1                 58                 -1   \n1893             -1                 -1                 -1                 -1   \n\n      pleural4_startpos  pleural5_startpos  pleural6_startpos  \\\n124                  -1                 52                 -1   \n125                  -1                 -1                 -1   \n126                  -1                 27                 -1   \n127                  -1                 -1                 52   \n128                  -1                 52                 -1   \n...                 ...                ...                ...   \n1889                 -1                 -1                 -1   \n1890                 -1                 52                 -1   \n1891                 -1                 -1                 -1   \n1892                 -1                 52                 -1   \n1893                 52                 -1                 -1   \n\n      heart1_startpos  heart2_startpos  airway1_startpos  thorax1_startpos  \\\n124                -1              285                27                -1   \n125                -1              189                27                -1   \n126                -1               97                -1                -1   \n127                -1              162                27                -1   \n128                -1              139                27                -1   \n...               ...              ...               ...               ...   \n1889               -1              190                27                -1   \n1890               -1              190                27                -1   \n1891               -1              137                27                -1   \n1892               -1              169                27                -1   \n1893               -1              183                27                -1   \n\n      thorax2_startpos  bones1_startpos  \\\n124                 -1               -1   \n125                 -1               -1   \n126                 -1               -1   \n127                 -1               -1   \n128                 -1               -1   \n...                ...              ...   \n1889                -1               -1   \n1890                -1               -1   \n1891                -1               -1   \n1892                -1               -1   \n1893                -1              266   \n\n                                              lung_text  \\\n124                                                       \n125   lungs: bilateral lower lobe infiltrates on thi...   \n126                                                       \n127                                                       \n128                                                       \n...                                                 ...   \n1889  lungs: hypoaeration. increased interstitial ma...   \n1890                                                      \n1891  lungs: diffuse patchy opacities within the rig...   \n1892                                                      \n1893                                                      \n\n                                            pleura_text  \n124   lungs/pleura/pleural space: interstitial promi...  \n125                      pleura/pleural space: normal.   \n126   lungs/pleura/pleural space: normal lung volume...  \n127   lungs/pleura: bibasilar patchy airspace opacit...  \n128   lungs/pleura/pleural space: increasing airspac...  \n...                                                 ...  \n1889                     pleura/pleural space: normal.   \n1890  lungs/pleura/pleural space: low lung volumes w...  \n1891                     pleura/pleural space: normal.   \n1892  lungs/pleura/pleural space: significant increa...  \n1893  lungs/pleural space: mild diffuse interstitial...  \n\n[1760 rows x 18 columns]",
      "text/html": "<div>\n<style scoped>\n    .dataframe tbody tr th:only-of-type {\n        vertical-align: middle;\n    }\n\n    .dataframe tbody tr th {\n        vertical-align: top;\n    }\n\n    .dataframe thead th {\n        text-align: right;\n    }\n</style>\n<table border=\"1\" class=\"dataframe\">\n  <thead>\n    <tr style=\"text-align: right;\">\n      <th></th>\n      <th>note_num</th>\n      <th>label</th>\n      <th>text</th>\n      <th>lung_startpos</th>\n      <th>pleural1_startpos</th>\n      <th>pleural2_startpos</th>\n      <th>pleural3_startpos</th>\n      <th>pleural4_startpos</th>\n      <th>pleural5_startpos</th>\n      <th>pleural6_startpos</th>\n      <th>heart1_startpos</th>\n      <th>heart2_startpos</th>\n      <th>airway1_startpos</th>\n      <th>thorax1_startpos</th>\n      <th>thorax2_startpos</th>\n      <th>bones1_startpos</th>\n      <th>lung_text</th>\n      <th>pleura_text</th>\n    </tr>\n  </thead>\n  <tbody>\n    <tr>\n      <th>124</th>\n      <td>125</td>\n      <td>-1</td>\n      <td>tubes and catheters: none. central airways: no...</td>\n      <td>-1</td>\n      <td>-1</td>\n      <td>58</td>\n      <td>-1</td>\n      <td>-1</td>\n      <td>52</td>\n      <td>-1</td>\n      <td>-1</td>\n      <td>285</td>\n      <td>27</td>\n      <td>-1</td>\n      <td>-1</td>\n      <td>-1</td>\n      <td></td>\n      <td>lungs/pleura/pleural space: interstitial promi...</td>\n    </tr>\n    <tr>\n      <th>125</th>\n      <td>126</td>\n      <td>-1</td>\n      <td>tubes and catheters: none. central airways: no...</td>\n      <td>52</td>\n      <td>-1</td>\n      <td>159</td>\n      <td>-1</td>\n      <td>-1</td>\n      <td>-1</td>\n      <td>-1</td>\n      <td>-1</td>\n      <td>189</td>\n      <td>27</td>\n      <td>-1</td>\n      <td>-1</td>\n      <td>-1</td>\n      <td>lungs: bilateral lower lobe infiltrates on thi...</td>\n      <td>pleura/pleural space: normal.</td>\n    </tr>\n    <tr>\n      <th>126</th>\n      <td>127</td>\n      <td>-1</td>\n      <td>tubes and catheters: none. lungs/pleura/pleura...</td>\n      <td>-1</td>\n      <td>-1</td>\n      <td>33</td>\n      <td>-1</td>\n      <td>-1</td>\n      <td>27</td>\n      <td>-1</td>\n      <td>-1</td>\n      <td>97</td>\n      <td>-1</td>\n      <td>-1</td>\n      <td>-1</td>\n      <td>-1</td>\n      <td></td>\n      <td>lungs/pleura/pleural space: normal lung volume...</td>\n    </tr>\n    <tr>\n      <th>127</th>\n      <td>128</td>\n      <td>-1</td>\n      <td>tubes and catheters: none. central airways: no...</td>\n      <td>-1</td>\n      <td>58</td>\n      <td>-1</td>\n      <td>-1</td>\n      <td>-1</td>\n      <td>-1</td>\n      <td>52</td>\n      <td>-1</td>\n      <td>162</td>\n      <td>27</td>\n      <td>-1</td>\n      <td>-1</td>\n      <td>-1</td>\n      <td></td>\n      <td>lungs/pleura: bibasilar patchy airspace opacit...</td>\n    </tr>\n    <tr>\n      <th>128</th>\n      <td>129</td>\n      <td>-1</td>\n      <td>tubes and catheters: none. central airways: no...</td>\n      <td>-1</td>\n      <td>-1</td>\n      <td>58</td>\n      <td>-1</td>\n      <td>-1</td>\n      <td>52</td>\n      <td>-1</td>\n      <td>-1</td>\n      <td>139</td>\n      <td>27</td>\n      <td>-1</td>\n      <td>-1</td>\n      <td>-1</td>\n      <td></td>\n      <td>lungs/pleura/pleural space: increasing airspac...</td>\n    </tr>\n    <tr>\n      <th>...</th>\n      <td>...</td>\n      <td>...</td>\n      <td>...</td>\n      <td>...</td>\n      <td>...</td>\n      <td>...</td>\n      <td>...</td>\n      <td>...</td>\n      <td>...</td>\n      <td>...</td>\n      <td>...</td>\n      <td>...</td>\n      <td>...</td>\n      <td>...</td>\n      <td>...</td>\n      <td>...</td>\n      <td>...</td>\n      <td>...</td>\n    </tr>\n    <tr>\n      <th>1889</th>\n      <td>1890</td>\n      <td>-1</td>\n      <td>tubes and catheters: none. central airways: no...</td>\n      <td>52</td>\n      <td>-1</td>\n      <td>160</td>\n      <td>-1</td>\n      <td>-1</td>\n      <td>-1</td>\n      <td>-1</td>\n      <td>-1</td>\n      <td>190</td>\n      <td>27</td>\n      <td>-1</td>\n      <td>-1</td>\n      <td>-1</td>\n      <td>lungs: hypoaeration. increased interstitial ma...</td>\n      <td>pleura/pleural space: normal.</td>\n    </tr>\n    <tr>\n      <th>1890</th>\n      <td>1891</td>\n      <td>-1</td>\n      <td>tubes and catheters: none. central airways: no...</td>\n      <td>-1</td>\n      <td>-1</td>\n      <td>58</td>\n      <td>-1</td>\n      <td>-1</td>\n      <td>52</td>\n      <td>-1</td>\n      <td>-1</td>\n      <td>190</td>\n      <td>27</td>\n      <td>-1</td>\n      <td>-1</td>\n      <td>-1</td>\n      <td></td>\n      <td>lungs/pleura/pleural space: low lung volumes w...</td>\n    </tr>\n    <tr>\n      <th>1891</th>\n      <td>1892</td>\n      <td>-1</td>\n      <td>tubes and catheters: none. central airways: no...</td>\n      <td>52</td>\n      <td>-1</td>\n      <td>107</td>\n      <td>-1</td>\n      <td>-1</td>\n      <td>-1</td>\n      <td>-1</td>\n      <td>-1</td>\n      <td>137</td>\n      <td>27</td>\n      <td>-1</td>\n      <td>-1</td>\n      <td>-1</td>\n      <td>lungs: diffuse patchy opacities within the rig...</td>\n      <td>pleura/pleural space: normal.</td>\n    </tr>\n    <tr>\n      <th>1892</th>\n      <td>1893</td>\n      <td>-1</td>\n      <td>tubes and catheters: none. central airways: no...</td>\n      <td>-1</td>\n      <td>-1</td>\n      <td>58</td>\n      <td>-1</td>\n      <td>-1</td>\n      <td>52</td>\n      <td>-1</td>\n      <td>-1</td>\n      <td>169</td>\n      <td>27</td>\n      <td>-1</td>\n      <td>-1</td>\n      <td>-1</td>\n      <td></td>\n      <td>lungs/pleura/pleural space: significant increa...</td>\n    </tr>\n    <tr>\n      <th>1893</th>\n      <td>1894</td>\n      <td>-1</td>\n      <td>tubes and catheters: none. central airways: no...</td>\n      <td>-1</td>\n      <td>-1</td>\n      <td>-1</td>\n      <td>-1</td>\n      <td>52</td>\n      <td>-1</td>\n      <td>-1</td>\n      <td>-1</td>\n      <td>183</td>\n      <td>27</td>\n      <td>-1</td>\n      <td>-1</td>\n      <td>266</td>\n      <td></td>\n      <td>lungs/pleural space: mild diffuse interstitial...</td>\n    </tr>\n  </tbody>\n</table>\n<p>1760 rows × 18 columns</p>\n</div>"
     },
     "execution_count": 8,
     "metadata": {},
     "output_type": "execute_result"
    }
   ],
   "source": [
    "train_df"
   ],
   "metadata": {
    "collapsed": false
   }
  },
  {
   "cell_type": "code",
   "execution_count": 9,
   "outputs": [
    {
     "data": {
      "text/plain": "      note_num  label                                               text  \\\n130        131     -1  the lungs are clear. there are calcified granu...   \n178        179     -1  frontal portable view of the chest reveals no ...   \n183        184     -1  there are patchy airspace infiltrates within t...   \n188        189     -1  frontal view of the chest reveals no evidence ...   \n236        237     -1  the lungs are hypoventilated. there is mild, p...   \n...        ...    ...                                                ...   \n1795      1796     -1  multifocal airspace consolidations are noted i...   \n1797      1798     -1  the cardiomediastinal silhouette is within nor...   \n1862      1863     -1  patient rotation degrades image quality and de...   \n1886      1887     -1  post tavi. post median sternotomy and mediasti...   \n1887      1888     -1  lungs: mild interstitial prominence in the mid...   \n\n      lung_startpos  pleural1_startpos  pleural2_startpos  pleural3_startpos  \\\n130              -1                 -1                 -1                 -1   \n178              -1                 -1                 -1                 -1   \n183              -1                 -1                 -1                 -1   \n188              -1                 -1                 -1                 -1   \n236              -1                 -1                 -1                 -1   \n...             ...                ...                ...                ...   \n1795             -1                 -1                 -1                 -1   \n1797             -1                 -1                 -1                 -1   \n1862            211                 -1                445                 -1   \n1886             -1                 -1                 -1                 -1   \n1887              0                 69                 -1                 -1   \n\n      pleural4_startpos  pleural5_startpos  pleural6_startpos  \\\n130                  -1                 -1                 -1   \n178                  -1                 -1                 -1   \n183                  -1                 -1                 -1   \n188                  -1                 -1                 -1   \n236                  -1                 -1                 -1   \n...                 ...                ...                ...   \n1795                 -1                 -1                 -1   \n1797                 -1                 -1                 -1   \n1862                 -1                 -1                 -1   \n1886                 -1                 -1                 -1   \n1887                 -1                 -1                 -1   \n\n      heart1_startpos  heart2_startpos  airway1_startpos  thorax1_startpos  \\\n130                -1               -1                -1                -1   \n178                -1               -1                -1                -1   \n183                -1               -1                -1                -1   \n188                -1               -1                -1                -1   \n236                -1               -1                -1                -1   \n...               ...              ...               ...               ...   \n1795               -1               -1                -1                -1   \n1797               -1               -1                -1                -1   \n1862               -1              506               113                -1   \n1886               -1               -1                -1                -1   \n1887              126               -1                -1                -1   \n\n      thorax2_startpos  bones1_startpos  \\\n130                 -1               -1   \n178                 -1               -1   \n183                 -1               -1   \n188                 -1               -1   \n236                 -1               -1   \n...                ...              ...   \n1795                -1               -1   \n1797                -1               -1   \n1862                -1               -1   \n1886                -1               -1   \n1887                -1               -1   \n\n                                              lung_text  \\\n130                                                       \n178                                                       \n183                                                       \n188                                                       \n236                                                       \n...                                                 ...   \n1795                                                      \n1797                                                      \n1862  lungs: opacity along the border of the right m...   \n1886                                                      \n1887  lungs: mild interstitial prominence in the mid...   \n\n                                            pleura_text  \n130                                                      \n178                                                      \n183                                                      \n188                                                      \n236                                                      \n...                                                 ...  \n1795                                                     \n1797                                                     \n1862  pleura/pleural space: biapical pleural-parench...  \n1886                                                     \n1887  pleura: no pleural effusion is present. no pne...  \n\n[126 rows x 18 columns]",
      "text/html": "<div>\n<style scoped>\n    .dataframe tbody tr th:only-of-type {\n        vertical-align: middle;\n    }\n\n    .dataframe tbody tr th {\n        vertical-align: top;\n    }\n\n    .dataframe thead th {\n        text-align: right;\n    }\n</style>\n<table border=\"1\" class=\"dataframe\">\n  <thead>\n    <tr style=\"text-align: right;\">\n      <th></th>\n      <th>note_num</th>\n      <th>label</th>\n      <th>text</th>\n      <th>lung_startpos</th>\n      <th>pleural1_startpos</th>\n      <th>pleural2_startpos</th>\n      <th>pleural3_startpos</th>\n      <th>pleural4_startpos</th>\n      <th>pleural5_startpos</th>\n      <th>pleural6_startpos</th>\n      <th>heart1_startpos</th>\n      <th>heart2_startpos</th>\n      <th>airway1_startpos</th>\n      <th>thorax1_startpos</th>\n      <th>thorax2_startpos</th>\n      <th>bones1_startpos</th>\n      <th>lung_text</th>\n      <th>pleura_text</th>\n    </tr>\n  </thead>\n  <tbody>\n    <tr>\n      <th>130</th>\n      <td>131</td>\n      <td>-1</td>\n      <td>the lungs are clear. there are calcified granu...</td>\n      <td>-1</td>\n      <td>-1</td>\n      <td>-1</td>\n      <td>-1</td>\n      <td>-1</td>\n      <td>-1</td>\n      <td>-1</td>\n      <td>-1</td>\n      <td>-1</td>\n      <td>-1</td>\n      <td>-1</td>\n      <td>-1</td>\n      <td>-1</td>\n      <td></td>\n      <td></td>\n    </tr>\n    <tr>\n      <th>178</th>\n      <td>179</td>\n      <td>-1</td>\n      <td>frontal portable view of the chest reveals no ...</td>\n      <td>-1</td>\n      <td>-1</td>\n      <td>-1</td>\n      <td>-1</td>\n      <td>-1</td>\n      <td>-1</td>\n      <td>-1</td>\n      <td>-1</td>\n      <td>-1</td>\n      <td>-1</td>\n      <td>-1</td>\n      <td>-1</td>\n      <td>-1</td>\n      <td></td>\n      <td></td>\n    </tr>\n    <tr>\n      <th>183</th>\n      <td>184</td>\n      <td>-1</td>\n      <td>there are patchy airspace infiltrates within t...</td>\n      <td>-1</td>\n      <td>-1</td>\n      <td>-1</td>\n      <td>-1</td>\n      <td>-1</td>\n      <td>-1</td>\n      <td>-1</td>\n      <td>-1</td>\n      <td>-1</td>\n      <td>-1</td>\n      <td>-1</td>\n      <td>-1</td>\n      <td>-1</td>\n      <td></td>\n      <td></td>\n    </tr>\n    <tr>\n      <th>188</th>\n      <td>189</td>\n      <td>-1</td>\n      <td>frontal view of the chest reveals no evidence ...</td>\n      <td>-1</td>\n      <td>-1</td>\n      <td>-1</td>\n      <td>-1</td>\n      <td>-1</td>\n      <td>-1</td>\n      <td>-1</td>\n      <td>-1</td>\n      <td>-1</td>\n      <td>-1</td>\n      <td>-1</td>\n      <td>-1</td>\n      <td>-1</td>\n      <td></td>\n      <td></td>\n    </tr>\n    <tr>\n      <th>236</th>\n      <td>237</td>\n      <td>-1</td>\n      <td>the lungs are hypoventilated. there is mild, p...</td>\n      <td>-1</td>\n      <td>-1</td>\n      <td>-1</td>\n      <td>-1</td>\n      <td>-1</td>\n      <td>-1</td>\n      <td>-1</td>\n      <td>-1</td>\n      <td>-1</td>\n      <td>-1</td>\n      <td>-1</td>\n      <td>-1</td>\n      <td>-1</td>\n      <td></td>\n      <td></td>\n    </tr>\n    <tr>\n      <th>...</th>\n      <td>...</td>\n      <td>...</td>\n      <td>...</td>\n      <td>...</td>\n      <td>...</td>\n      <td>...</td>\n      <td>...</td>\n      <td>...</td>\n      <td>...</td>\n      <td>...</td>\n      <td>...</td>\n      <td>...</td>\n      <td>...</td>\n      <td>...</td>\n      <td>...</td>\n      <td>...</td>\n      <td>...</td>\n      <td>...</td>\n    </tr>\n    <tr>\n      <th>1795</th>\n      <td>1796</td>\n      <td>-1</td>\n      <td>multifocal airspace consolidations are noted i...</td>\n      <td>-1</td>\n      <td>-1</td>\n      <td>-1</td>\n      <td>-1</td>\n      <td>-1</td>\n      <td>-1</td>\n      <td>-1</td>\n      <td>-1</td>\n      <td>-1</td>\n      <td>-1</td>\n      <td>-1</td>\n      <td>-1</td>\n      <td>-1</td>\n      <td></td>\n      <td></td>\n    </tr>\n    <tr>\n      <th>1797</th>\n      <td>1798</td>\n      <td>-1</td>\n      <td>the cardiomediastinal silhouette is within nor...</td>\n      <td>-1</td>\n      <td>-1</td>\n      <td>-1</td>\n      <td>-1</td>\n      <td>-1</td>\n      <td>-1</td>\n      <td>-1</td>\n      <td>-1</td>\n      <td>-1</td>\n      <td>-1</td>\n      <td>-1</td>\n      <td>-1</td>\n      <td>-1</td>\n      <td></td>\n      <td></td>\n    </tr>\n    <tr>\n      <th>1862</th>\n      <td>1863</td>\n      <td>-1</td>\n      <td>patient rotation degrades image quality and de...</td>\n      <td>211</td>\n      <td>-1</td>\n      <td>445</td>\n      <td>-1</td>\n      <td>-1</td>\n      <td>-1</td>\n      <td>-1</td>\n      <td>-1</td>\n      <td>506</td>\n      <td>113</td>\n      <td>-1</td>\n      <td>-1</td>\n      <td>-1</td>\n      <td>lungs: opacity along the border of the right m...</td>\n      <td>pleura/pleural space: biapical pleural-parench...</td>\n    </tr>\n    <tr>\n      <th>1886</th>\n      <td>1887</td>\n      <td>-1</td>\n      <td>post tavi. post median sternotomy and mediasti...</td>\n      <td>-1</td>\n      <td>-1</td>\n      <td>-1</td>\n      <td>-1</td>\n      <td>-1</td>\n      <td>-1</td>\n      <td>-1</td>\n      <td>-1</td>\n      <td>-1</td>\n      <td>-1</td>\n      <td>-1</td>\n      <td>-1</td>\n      <td>-1</td>\n      <td></td>\n      <td></td>\n    </tr>\n    <tr>\n      <th>1887</th>\n      <td>1888</td>\n      <td>-1</td>\n      <td>lungs: mild interstitial prominence in the mid...</td>\n      <td>0</td>\n      <td>69</td>\n      <td>-1</td>\n      <td>-1</td>\n      <td>-1</td>\n      <td>-1</td>\n      <td>-1</td>\n      <td>126</td>\n      <td>-1</td>\n      <td>-1</td>\n      <td>-1</td>\n      <td>-1</td>\n      <td>-1</td>\n      <td>lungs: mild interstitial prominence in the mid...</td>\n      <td>pleura: no pleural effusion is present. no pne...</td>\n    </tr>\n  </tbody>\n</table>\n<p>126 rows × 18 columns</p>\n</div>"
     },
     "execution_count": 9,
     "metadata": {},
     "output_type": "execute_result"
    }
   ],
   "source": [
    "train_df[ [not text.startswith(\"tube\") for text in train_df[\"text\"].astype(str).values.tolist()] ]"
   ],
   "metadata": {
    "collapsed": false
   }
  },
  {
   "cell_type": "code",
   "execution_count": 10,
   "outputs": [
    {
     "data": {
      "text/plain": "['lungs/pleura/pleural space: normal. ',\n 'lungs/pleura/pleural space: normal. ',\n 'lungs/pleura/pleural space: normal. ',\n 'lungs/pleura/pleural space: normal. ',\n 'lungs/pleura/pleural space: normal. ',\n 'lungs/pleura/pleural space: normal. ',\n 'lungs/pleura/pleural space: normal. ',\n 'lungs/pleura/pleural space: normal. no focal consolidative changes. ',\n 'lungs/pleura/pleural space: normal. ',\n 'lungs/pleura/pleural space: normal. ',\n 'lungs/pleura/pleural space: normal. ',\n 'lungs/pleura/pleural space: normal. ',\n 'lungs/pleura/pleural space: normal. ',\n 'lungs/pleura/pleural space: normal. ',\n 'lungs/pleura/pleural space: normal. skin folds project over the left lung base laterally. ',\n 'lungs/pleura/pleural space: normal. ']"
     },
     "execution_count": 10,
     "metadata": {},
     "output_type": "execute_result"
    }
   ],
   "source": [
    "#train_df.query('lung_text == \"\" & not pleura_text.str.startswith(\"lung\")')\n",
    "#train_df.query('lung_text == \"\" & pleura_text == \"\"')\n",
    "#train_df.query('pleura_text == \"\"')\n",
    "train_df.query('lung_text == \"\" & pleura_text.str.startswith(\"lung\") & pleura_text.str.contains(\"normal\\.\")')[\"pleura_text\"].astype(str).values.tolist()"
   ],
   "metadata": {
    "collapsed": false
   }
  },
  {
   "cell_type": "code",
   "execution_count": 11,
   "outputs": [
    {
     "data": {
      "text/plain": "['lungs: lungs are hypoexpanded. mild/moderate interstitial thickening involving the bilateral middle and lower lobe middle and lower lung zones. no focal opacities or consolidations. ',\n 'lungs: diffuse hazy pulmonary opacities and mild interstitial thickening. left base hypoaeration. ',\n 'lungs: interval development of patchy opacities within the left lower lobe. stable coarse interstitial thickening and biapical pleural parenchymal scarring. ']"
     },
     "execution_count": 11,
     "metadata": {},
     "output_type": "execute_result"
    }
   ],
   "source": [
    "[s for s in train_df[train_df[\"lung_text\"].str.len() > 0][\"lung_text\"].astype(str).values.tolist() if \"interstitial thickening\" in s]\n",
    "#interstitial #airspace"
   ],
   "metadata": {
    "collapsed": false
   }
  },
  {
   "cell_type": "code",
   "execution_count": 12,
   "outputs": [
    {
     "data": {
      "text/plain": "['lungs/pleura/pleural space: mild interstitial thickening as can be seen in the setting of edema. ']"
     },
     "execution_count": 12,
     "metadata": {},
     "output_type": "execute_result"
    }
   ],
   "source": [
    "[s for s in train_df[train_df[\"pleura_text\"].str.len() > 0][\"pleura_text\"].astype(str).values.tolist() if \"interstitial thickening\" in s]"
   ],
   "metadata": {
    "collapsed": false
   }
  },
  {
   "cell_type": "code",
   "execution_count": 13,
   "outputs": [
    {
     "data": {
      "text/plain": "[]"
     },
     "execution_count": 13,
     "metadata": {},
     "output_type": "execute_result"
    }
   ],
   "source": [
    "[s for s in train_df.query('lung_text == \"\" & pleura_text == \"\"')[\"text\"].astype(str).values.tolist() if \"interstitial thickening\" in s]"
   ],
   "metadata": {
    "collapsed": false
   }
  },
  {
   "cell_type": "code",
   "execution_count": 14,
   "outputs": [],
   "source": [
    "def word_count(text):\n",
    "    split_pos = text.find(\":\")\n",
    "    return len(text[split_pos+1:].strip().split())\n",
    "\n",
    "train_df['pleura_wordCount'] = train_df[\"pleura_text\"].apply(word_count)\n",
    "train_df['lung_wordCount'] = train_df[\"lung_text\"].apply(word_count)"
   ],
   "metadata": {
    "collapsed": false
   }
  },
  {
   "cell_type": "code",
   "execution_count": 15,
   "outputs": [
    {
     "data": {
      "text/plain": "count    1760.000000\nmean        5.831818\nstd         6.866808\nmin         0.000000\n25%         1.000000\n50%         4.000000\n75%         8.000000\nmax        56.000000\nName: pleura_wordCount, dtype: float64"
     },
     "execution_count": 15,
     "metadata": {},
     "output_type": "execute_result"
    }
   ],
   "source": [
    "train_df['pleura_wordCount'].describe()"
   ],
   "metadata": {
    "collapsed": false
   }
  },
  {
   "cell_type": "code",
   "execution_count": 16,
   "outputs": [
    {
     "data": {
      "text/plain": "['pleura/pleural space: small left pleural fluid. ',\n 'pleura/pleural space: small bilateral pleural effusions ',\n 'lungs/pleura/pleural space: bilateral prominent interstitial markings ',\n 'pleura/pleural space: small bilateral pleural effusions ',\n 'pleura/pleural space: small right pleural effusion. ',\n 'pleura/pleural space: trace right pleural effusion. ',\n 'lungs/pleura/pleural space: diffuse bilateral patchy opacities ',\n 'pleura/pleural space: trace left pleural effusion. ',\n 'pleura/pleural space: small left pleural effusion. ',\n 'pleura/pleural space: small bilateral pleural effusions. ',\n 'pleura/pleural space: small bilateral pleural effusions. ',\n 'pleura/pleural space: no significant pleural effusion. ',\n 'pleura/pleural space: no effusion or pneumothorax. ',\n 'pleura/pleural space: no pneumothoraces or effusions ',\n 'pleura/pleural space: trace left pleural effusion ',\n 'lungs/pleural space: patchy bibasilar airspace opacities. ',\n 'pleura/pleural space: small bilateral pleural effusions ',\n 'lungs/pleura/pleural space: hypoventilatory examination. bibasilar opacities. ',\n 'pleura/pleural space: possible trace pleural effusions. ',\n 'pleura/pleural space: trace right pleural fluid. ',\n 'pleura/pleural space: small bilateral pleural effusions. ',\n 'pleura/pleural space: trace left pleural effusion ',\n 'pleura/pleural space: small left pleural effusion. ',\n 'pleura/pleural space: small left pleural effusion ',\n 'pleura/pleural space: possible trace pleural effusions. ',\n 'lungs/pleura/pleural space: patchy bilateral airspace opacities. ',\n 'pleura/pleural space: no effusion or pneumothorax. ',\n 'pleura and pleural surfaces: no significant pleural effusions. ',\n 'pleura/pleural space: small right pleural effusion. ',\n 'pleura/pleural space: small right pleural effusion. ',\n 'pleura/pleural space: possible trace right effusion. ',\n 'pleura/pleural space: possible trace pleural effusions. ',\n 'pleura/pleural space: small left pleural effusion. ',\n 'pleura/pleural space: trace right pleural effusion. ',\n 'pleura/pleural space: question small left effusion ',\n 'pleura/pleural space: small bilateral pleural effusion. ',\n 'pleura/pleural space: no evidence for pneumothorax. ',\n 'pleura/pleural space: no evidence of effusion ',\n 'pleura/pleural space: small bilateral pleural effusions. ',\n 'lungs/pleura/pleural space: left basilar lung opacification. ',\n 'lungs/pleura/pleural space: diffuse bilateral airspace opacities. ',\n 'lungs/pleura/pleural space: patchy bilateral airspace opacities. ',\n 'pleura/pleural space: large left pleural effusion. ',\n 'pleura/pleural space: small left pleural effusion. ',\n 'lungs/pleura/pleural space: mild lower lung opacities. ',\n 'pleura/pleural space: small left pleural effusion. ',\n 'pleura/pleural space: no pneumothorax or hemothorax. ',\n 'pleura/pleural space: question small left effusion ',\n 'pleura/pleural space: no effusions or pneumothorax. ',\n 'pleura/pleural space: mild left-sided pleural thickening. ',\n 'lungs/pleura/pleural space: diffuse bilateral airspace opacities. ',\n 'lungs/pleura/pleural space: patchy bilateral airspace opacities. ',\n 'pleura/pleural space: increased bilateral pleural fluid. ',\n 'pleura/pleural space: small left pleural effusion. ',\n 'lungs/pleura/pleural space: diffuse bilateral airspace opacities. ',\n 'pleura/pleural space: silhouette appears slightly enlarged ',\n 'pleura/pleural space: cardiac silhouette appears enlarged ',\n 'pleura/pleural space: increased bilateral pleural effusions. ',\n 'pleura/pleural space: trace left pleural effusion ',\n 'lungs/pleura/pleural space: hypoventilatory examination. bibasilar atelectasis. ',\n 'pleura/pleural space: small left-sided pleural fluid. ',\n 'pleura/pleural space: small bilateral pleural effusions. ',\n 'pleura/pleural space: trace bilateral pleural fluid. ',\n 'lungs/pleura/pleural space: left upper lobe consolidation. ',\n 'pleura/pleural space: pleural fluid. no pneumothorax. ',\n 'pleura/pleural space: small left-sided pleural effusion. ',\n 'pleura/pleural space: there is significant change ',\n 'pleura/pleural space: no significant pleural fluid. ',\n 'pleura/pleural space: bilateral moderate pleural effusions ',\n 'pleura/pleural space: trace right pleural effusion. ',\n 'pleura/pleural space: small bilateral pleural effusions. ',\n 'pleura/pleural space: no pneumothorax or effusions. ',\n 'pleura/pleural space: small left pleural effusion. ',\n 'pleura/pleural space: no significant pleural fluid. ',\n 'pleura/pleural space: no significant pleural effusion ',\n 'pleura/pleural space: cannot exclude trace effusions. ',\n 'pleura/pleural space: right apical pleural thickening. ',\n 'pleura/pleural space: trace right apical pneumothorax. ',\n 'pleura/pleural space: small left pleural effusion. ',\n 'pleura/pleural space: small bilateral pleural effusions. ',\n 'pleura/pleural space: trace left pleural fluid. ',\n 'pleura/pleural space: trace left pleural effusion ',\n 'pleura/pleural space: small left pleural effusion. ',\n 'pleura/pleural space: small right pleural effusion. ',\n 'pleura/pleural space: small bilateral pleural effusions. ',\n 'pleura/pleural space: small right pleural effusion. ',\n 'pleura/pleural space: no significant pleural effusion ',\n 'lungs/pleura/pleural space: diffuse bilateral airspace opacifications. ',\n 'pleura/pleural space: no significant pleural effusion ',\n 'lungs/pleura/pleural space: stable bilateral pulmonary opacity. ',\n 'pleura/pleural space: trace left pleural fluid. ',\n 'pleura/pleural space: small left pleural fluid. ',\n 'pleura/pleural space: small left pleural effusion. ',\n 'pleura/pleural space: trace bilateral pleural effusions. ']"
     },
     "execution_count": 16,
     "metadata": {},
     "output_type": "execute_result"
    }
   ],
   "source": [
    "train_df[train_df[\"pleura_wordCount\"] == 4][\"pleura_text\"].astype(str).values.tolist()"
   ],
   "metadata": {
    "collapsed": false
   }
  },
  {
   "cell_type": "code",
   "execution_count": 17,
   "outputs": [
    {
     "data": {
      "text/plain": "count    1760.000000\nmean        6.262500\nstd         7.063616\nmin         0.000000\n25%         0.000000\n50%         5.000000\n75%        10.000000\nmax        47.000000\nName: lung_wordCount, dtype: float64"
     },
     "execution_count": 17,
     "metadata": {},
     "output_type": "execute_result"
    }
   ],
   "source": [
    "train_df['lung_wordCount'].describe()"
   ],
   "metadata": {
    "collapsed": false
   }
  },
  {
   "cell_type": "code",
   "execution_count": 18,
   "outputs": [
    {
     "data": {
      "text/plain": "['lungs: no focal opacities or consolidations. ',\n 'lungs: extensive bilateral consolidations predominantly peripheral ']"
     },
     "execution_count": 18,
     "metadata": {},
     "output_type": "execute_result"
    }
   ],
   "source": [
    "[ s for s in train_df[train_df[\"lung_wordCount\"] == 5][\"lung_text\"].astype(str).values.tolist()  if \"consolidation\" in s]"
   ],
   "metadata": {
    "collapsed": false
   }
  },
  {
   "cell_type": "code",
   "execution_count": 19,
   "outputs": [],
   "source": [
    "ABSTAIN = -1\n",
    "NORMAL = 0\n",
    "ABNORMAL = 1"
   ],
   "metadata": {
    "collapsed": false
   }
  },
  {
   "cell_type": "code",
   "execution_count": 20,
   "outputs": [],
   "source": [
    "from snorkel.labeling import labeling_function\n",
    "import re\n",
    "\n",
    "word_delim = [\" \", \"/\", \"\\\\\", \",\", \";\"]\n",
    "delim_pattern = '|'.join(map(re.escape, word_delim))\n",
    "delim_prog = re.compile(delim_pattern)\n",
    "\n",
    "def get_sentences(text):\n",
    "    # Returns list of sentences.\n",
    "    # Where each sentence is a list of words\n",
    "    split_pos = text.find(\":\")\n",
    "    sent = text[split_pos+1:]\n",
    "    sents =  [delim_prog.split(s.strip()) for s in sent.split(\".\") if len(s.strip()) > 0]\n",
    "    return sents\n",
    "\n",
    "def is_normal(text):\n",
    "    sents = get_sentences(text)\n",
    "    # This there is only one sentence and one word then\n",
    "    # test if it is the word \"normal\"\n",
    "    if len(sents) == 1:\n",
    "        if len(sents[0]) == 1 and sents[0][0] in [\"normal\", \"negative\", \"clear\"]:\n",
    "            return NORMAL\n",
    "        elif len(sents[0]) == 2 and \" \".join(sents[0]) == \"no change\":\n",
    "            return NORMAL\n",
    "        else:\n",
    "            return ABSTAIN\n",
    "    else:\n",
    "        return ABSTAIN\n",
    "\n",
    "def detect_tokens(text, tokens):\n",
    "    sents = get_sentences(text)\n",
    "    res = []\n",
    "    # For each sentence see if any tokens are present\n",
    "    # If so, naively detect if it is negated\n",
    "    for sent in sents:\n",
    "        present = [sent.index(token) for token in tokens if token in sent]\n",
    "        if len(present) > 0:\n",
    "            index = min(present)\n",
    "            negate = sent.index(\"no\") if \"no\" in sent else -1\n",
    "            res.append(NORMAL if -1 < negate < index else ABNORMAL)\n",
    "    if len(res) > 0:\n",
    "        # Now return an overall call based any calls being abnormal\n",
    "        return ABNORMAL if sum(res) > 0 else NORMAL\n",
    "    else:\n",
    "        # If no tokens present at all\n",
    "        return ABSTAIN\n",
    "\n",
    "def detect_phrases(text, phrases):\n",
    "    split_pos = text.find(\":\")\n",
    "    sent = text[split_pos+1:]\n",
    "    sents =  [s.strip() for s in sent.split(\".\") if len(s.strip()) > 0]\n",
    "    res = []\n",
    "    # See if phrases are present in text\n",
    "    # If so, naively detect if it is negated\n",
    "    for phrase in phrases:\n",
    "        for sent in sents:\n",
    "            if phrase in sent:\n",
    "                index = sent.index(phrase)\n",
    "                # Need space after no to not pick up no as a substring\n",
    "                negate = sent.index(\"no \") if \"no \" in sent else -1\n",
    "                res.append(NORMAL if -1 < negate < index else ABNORMAL)\n",
    "    if len(res) > 0:\n",
    "        # Now return an overall call based any calls being abnormal\n",
    "        return ABNORMAL if sum(res) > 0 else NORMAL\n",
    "    else:\n",
    "        # If no tokens present at all\n",
    "        return ABSTAIN\n",
    "\n",
    "@labeling_function()\n",
    "def lung_normal(x):\n",
    "    # if lung_text is empty, check is pleura_text\n",
    "    # includes lung information\n",
    "    text = x.lung_text\n",
    "    if text == \"\" and x.pleura_text.startswith(\"lung\"):\n",
    "        text = x.pleura_text\n",
    "    return is_normal(text)\n",
    "\n",
    "@labeling_function()\n",
    "def pleura_normal(x):\n",
    "    return is_normal(x.pleura_text)\n",
    "\n",
    "@labeling_function()\n",
    "def detect_infiltrates(x):\n",
    "    # if lung_text is empty, check is pleura_text\n",
    "    # includes lung information\n",
    "    text = x.lung_text\n",
    "    if text == \"\" and x.pleura_text.startswith(\"lung\"):\n",
    "        text = x.pleura_text\n",
    "    if x.lung_text == \"\" and  x.pleura_text == \"\":\n",
    "        text = x.text\n",
    "    return detect_tokens(text, [\"infiltrate\", \"infiltrates\"])\n",
    "\n",
    "@labeling_function()\n",
    "def detect_emphysema(x):\n",
    "    # if lung_text is empty, check is pleura_text\n",
    "    # includes lung information\n",
    "    text = x.lung_text\n",
    "    if x.lung_text == \"\" and x.pleura_text.startswith(\"lung\"):\n",
    "        text = x.pleura_text\n",
    "    if x.lung_text == \"\" and  x.pleura_text == \"\":\n",
    "        text = x.text\n",
    "    return detect_tokens(text, [\"emphysema\", \"emphysematous\"])\n",
    "\n",
    "@labeling_function()\n",
    "def detect_interstitial_prominence(x):\n",
    "    # if lung_text is empty, check if pleura_text\n",
    "    # includes lung information\n",
    "    text = x.lung_text\n",
    "    if text == \"\" and x.pleura_text.startswith(\"lung\"):\n",
    "        text = x.pleura_text\n",
    "    if x.lung_text == \"\" and  x.pleura_text == \"\":\n",
    "        text = x.text\n",
    "    return detect_phrases(text, [\"interstitial prominence\", \"interstitial marking\", \"interstitial thickening\"])\n",
    "\n",
    "@labeling_function()\n",
    "def detect_effusions(x):\n",
    "    # Very few instances do not have parsed pleura_text.\n",
    "    # In those cases use the full text\n",
    "    text = x.pleura_text if x.pleura_text != \"\" else x.text\n",
    "    return detect_tokens(text, [\"effusion\", \"effusions\"])\n",
    "\n",
    "@labeling_function()\n",
    "def detect_fluid(x):\n",
    "    # Very few instances do not have parsed pleura_text.\n",
    "    # In those cases use the full text\n",
    "    text = x.pleura_text if x.pleura_text != \"\" else x.text\n",
    "    return detect_tokens(text, [\"fluid\", \"fluids\"])\n",
    "\n",
    "@labeling_function()\n",
    "def detect_opacities(x):\n",
    "    # Very few instances do not have parsed lung_text or pleura_text.\n",
    "    # In those cases use the full text\n",
    "    notes = []\n",
    "    if x.lung_text == \"\" and  x.pleura_text == \"\":\n",
    "        notes.append(x.text)\n",
    "    else:\n",
    "        notes = [x.lung_text, x.pleura_text]\n",
    "    res = []\n",
    "    for text in notes:\n",
    "        call = detect_tokens(text, [\"opacity\", \"opacities\", \"opacification\", \"opacifications\"])\n",
    "        if call != ABSTAIN:\n",
    "            res.append(call)\n",
    "    if len(res) == 0:\n",
    "        return ABSTAIN\n",
    "    elif any(res):\n",
    "        return ABNORMAL\n",
    "    else:\n",
    "        return NORMAL\n",
    "\n",
    "@labeling_function()\n",
    "def detect_consolidation(x):\n",
    "    # Very few instances do not have parsed lung_text or pleura_text.\n",
    "    # In those cases use the full text\n",
    "    notes = []\n",
    "    if x.lung_text == \"\" and  x.pleura_text == \"\":\n",
    "        notes.append(x.text)\n",
    "    else:\n",
    "        notes = [x.lung_text, x.pleura_text]\n",
    "    res = []\n",
    "    for text in notes:\n",
    "        call = detect_tokens(text, [\"consolidation\", \"consolidations\", \"consolidative\"])\n",
    "        if call != ABSTAIN:\n",
    "            res.append(call)\n",
    "    if len(res) == 0:\n",
    "        return ABSTAIN\n",
    "    elif any(res):\n",
    "        return ABNORMAL\n",
    "    else:\n",
    "        return NORMAL\n",
    "\n",
    "@labeling_function()\n",
    "def detect_pneumothorax(x):\n",
    "    # Very few instances do not have parsed lung_text or pleura_text.\n",
    "    # In those cases use the full text\n",
    "    notes = []\n",
    "    if x.lung_text == \"\" and  x.pleura_text == \"\":\n",
    "        notes.append(x.text)\n",
    "    else:\n",
    "        notes = [x.lung_text, x.pleura_text]\n",
    "    res = []\n",
    "    for text in notes:\n",
    "        call = detect_tokens(text, [\"pneumothorax\"])\n",
    "        if call != ABSTAIN:\n",
    "            res.append(call)\n",
    "    if len(res) == 0:\n",
    "        return ABSTAIN\n",
    "    elif any(res):\n",
    "        return ABNORMAL\n",
    "    else:\n",
    "        return NORMAL\n",
    "\n",
    "\n",
    "@labeling_function()\n",
    "def detect_disease(x):\n",
    "    # Very few instances do not have parsed lung_text or pleura_text.\n",
    "    # In those cases use the full text\n",
    "    notes = []\n",
    "    if x.lung_text == \"\" and  x.pleura_text == \"\":\n",
    "        notes.append(x.text)\n",
    "    else:\n",
    "        notes = [x.lung_text, x.pleura_text]\n",
    "    res = []\n",
    "    for text in notes:\n",
    "        call = detect_phrases(text, [\"lung disease\", \"airspace disease\", \"parenchymal disease\"])\n",
    "        if call != ABSTAIN:\n",
    "            res.append(call)\n",
    "    if len(res) == 0:\n",
    "        return ABSTAIN\n",
    "    elif any(res):\n",
    "        return ABNORMAL\n",
    "    else:\n",
    "        return NORMAL"
   ],
   "metadata": {
    "collapsed": false
   }
  },
  {
   "cell_type": "code",
   "execution_count": 21,
   "outputs": [
    {
     "name": "stderr",
     "output_type": "stream",
     "text": [
      "100%|██████████| 1760/1760 [00:00<00:00, 11383.35it/s]\n"
     ]
    }
   ],
   "source": [
    "from snorkel.labeling import PandasLFApplier\n",
    "\n",
    "lfs = [lung_normal, pleura_normal, detect_disease, detect_infiltrates, detect_emphysema, detect_interstitial_prominence,\n",
    "       detect_effusions, detect_fluid, detect_opacities, detect_consolidation, detect_pneumothorax]\n",
    "\n",
    "applier = PandasLFApplier(lfs=lfs)\n",
    "L_train = applier.apply(df=train_df)\n"
   ],
   "metadata": {
    "collapsed": false
   }
  },
  {
   "cell_type": "code",
   "execution_count": 22,
   "outputs": [
    {
     "data": {
      "text/plain": "array([[-1, -1, -1, ...,  1, -1, -1],\n       [-1,  0, -1, ..., -1, -1, -1],\n       [-1, -1, -1, ...,  1, -1, -1],\n       ...,\n       [-1,  0, -1, ...,  1, -1, -1],\n       [-1, -1,  1, ..., -1, -1, -1],\n       [-1, -1, -1, ..., -1, -1,  0]])"
     },
     "execution_count": 22,
     "metadata": {},
     "output_type": "execute_result"
    }
   ],
   "source": [
    "L_train"
   ],
   "metadata": {
    "collapsed": false
   }
  },
  {
   "cell_type": "code",
   "execution_count": 23,
   "outputs": [
    {
     "data": {
      "text/plain": "note_num                                                           435\nlabel                                                               -1\ntext                 tubes and catheters: none. central airways: no...\nlung_startpos                                                       52\npleural1_startpos                                                   -1\npleural2_startpos                                                   67\npleural3_startpos                                                   -1\npleural4_startpos                                                   -1\npleural5_startpos                                                   -1\npleural6_startpos                                                   -1\nheart1_startpos                                                     -1\nheart2_startpos                                                    136\nairway1_startpos                                                    27\nthorax1_startpos                                                    -1\nthorax2_startpos                                                    -1\nbones1_startpos                                                     -1\nlung_text                                              lungs: normal. \npleura_text          pleura/pleural space: patchy airspace disease ...\npleura_wordCount                                                     5\nlung_wordCount                                                       1\nName: 434, dtype: object"
     },
     "execution_count": 23,
     "metadata": {},
     "output_type": "execute_result"
    }
   ],
   "source": [
    "x = train_df.iloc[309]\n",
    "x"
   ],
   "metadata": {
    "collapsed": false
   }
  },
  {
   "cell_type": "code",
   "execution_count": 24,
   "outputs": [
    {
     "name": "stdout",
     "output_type": "stream",
     "text": [
      "lung_normal: 0\n",
      "pleura_normal: -1\n",
      "detect_disease: 1\n",
      "detect_infiltrates: -1\n",
      "detect_emphysema: -1\n",
      "detect_effusions: -1\n",
      "detect_fluid: -1\n",
      "detect_opacities: -1\n",
      "detect_consolidation: -1\n",
      "detect_pneumothorax: -1\n",
      "detect_interstitial_prominence: -1\n"
     ]
    }
   ],
   "source": [
    "print(\"lung_normal: %d\" % lung_normal(x))\n",
    "print(\"pleura_normal: %d\" % pleura_normal(x))\n",
    "print(\"detect_disease: %d\" % detect_disease(x))\n",
    "print(\"detect_infiltrates: %d\" % detect_infiltrates(x))\n",
    "print(\"detect_emphysema: %d\" % detect_emphysema(x))\n",
    "print(\"detect_effusions: %d\" % detect_effusions(x))\n",
    "print(\"detect_fluid: %d\" % detect_fluid(x))\n",
    "print(\"detect_opacities: %d\" % detect_opacities(x))\n",
    "print(\"detect_consolidation: %d\" % detect_consolidation(x))\n",
    "print(\"detect_pneumothorax: %d\" % detect_pneumothorax(x))\n",
    "print(\"detect_interstitial_prominence: %d\" % detect_interstitial_prominence(x))"
   ],
   "metadata": {
    "collapsed": false
   }
  },
  {
   "cell_type": "code",
   "execution_count": 25,
   "outputs": [
    {
     "data": {
      "text/plain": "'pleura/pleural space: patchy airspace disease scattered bilaterally. '"
     },
     "execution_count": 25,
     "metadata": {},
     "output_type": "execute_result"
    }
   ],
   "source": [
    "x.pleura_text"
   ],
   "metadata": {
    "collapsed": false
   }
  },
  {
   "cell_type": "code",
   "execution_count": 26,
   "outputs": [
    {
     "data": {
      "text/plain": "'lungs: normal. '"
     },
     "execution_count": 26,
     "metadata": {},
     "output_type": "execute_result"
    }
   ],
   "source": [
    "x.lung_text"
   ],
   "metadata": {
    "collapsed": false
   }
  },
  {
   "cell_type": "code",
   "execution_count": 27,
   "outputs": [
    {
     "data": {
      "text/plain": "'tubes and catheters: none. central airways: normal. lungs: normal. pleura/pleural space: patchy airspace disease scattered bilaterally. heart and mediastinum: unchanged cardiomediastinal silhouette. additional findings: no acute or aggressive osseous changes noted.'"
     },
     "execution_count": 27,
     "metadata": {},
     "output_type": "execute_result"
    }
   ],
   "source": [
    "x.text"
   ],
   "metadata": {
    "collapsed": false
   }
  },
  {
   "cell_type": "code",
   "execution_count": 28,
   "outputs": [],
   "source": [
    "output = L_train.sum(axis=1)"
   ],
   "metadata": {
    "collapsed": false
   }
  },
  {
   "cell_type": "code",
   "execution_count": 29,
   "outputs": [
    {
     "data": {
      "text/plain": "(31,)"
     },
     "execution_count": 29,
     "metadata": {},
     "output_type": "execute_result"
    }
   ],
   "source": [
    "output[output == -11].shape"
   ],
   "metadata": {
    "collapsed": false
   }
  },
  {
   "cell_type": "code",
   "execution_count": 30,
   "outputs": [
    {
     "data": {
      "text/plain": "[111,\n 203,\n 254,\n 357,\n 463,\n 567,\n 668,\n 680,\n 755,\n 914,\n 971,\n 1009,\n 1067,\n 1141,\n 1158,\n 1242,\n 1282,\n 1308,\n 1317,\n 1319,\n 1423,\n 1442,\n 1451,\n 1464,\n 1469,\n 1472,\n 1509,\n 1545,\n 1555,\n 1649,\n 1664]"
     },
     "execution_count": 30,
     "metadata": {},
     "output_type": "execute_result"
    }
   ],
   "source": [
    "[i for i, x in enumerate(output == -11) if x]"
   ],
   "metadata": {
    "collapsed": false
   }
  },
  {
   "cell_type": "code",
   "execution_count": 31,
   "outputs": [
    {
     "name": "stdout",
     "output_type": "stream",
     "text": [
      "lung_normal coverage: 7.8%\n",
      "pleura_normal coverage: 40.2%\n",
      "detect_disease coverage: 4.0%\n",
      "detect_infiltrates coverage: 0.7%\n",
      "detect_emphysema coverage: 0.9%\n",
      "detect_interstitial_prominence coverage: 9.9%\n",
      "detect_effusions coverage: 21.8%\n",
      "detect_fluid coverage: 10.3%\n",
      "detect_opacities coverage: 73.6%\n",
      "detect_consolidation coverage: 6.0%\n",
      "detect_pneumothorax coverage: 22.4%\n"
     ]
    }
   ],
   "source": [
    "coverage_lung_normal, coverage_pleura_normal, coverage_detect_disease, coverage_detect_infiltrates, coverage_detect_emphysema, coverage_detect_interstitial_prominence, coverage_detect_effusions, coverage_detect_fluid, coverage_detect_opacities, coverage_detect_consolidation, coverage_detect_pneumothorax = (L_train != ABSTAIN).mean(axis=0)\n",
    "print(f\"lung_normal coverage: {coverage_lung_normal * 100:.1f}%\")\n",
    "print(f\"pleura_normal coverage: {coverage_pleura_normal * 100:.1f}%\")\n",
    "print(f\"detect_disease coverage: {coverage_detect_disease * 100:.1f}%\")\n",
    "print(f\"detect_infiltrates coverage: {coverage_detect_infiltrates * 100:.1f}%\")\n",
    "print(f\"detect_emphysema coverage: {coverage_detect_emphysema * 100:.1f}%\")\n",
    "print(f\"detect_interstitial_prominence coverage: {coverage_detect_interstitial_prominence * 100:.1f}%\")\n",
    "print(f\"detect_effusions coverage: {coverage_detect_effusions * 100:.1f}%\")\n",
    "print(f\"detect_fluid coverage: {coverage_detect_fluid * 100:.1f}%\")\n",
    "print(f\"detect_opacities coverage: {coverage_detect_opacities * 100:.1f}%\")\n",
    "print(f\"detect_consolidation coverage: {coverage_detect_consolidation * 100:.1f}%\")\n",
    "print(f\"detect_pneumothorax coverage: {coverage_detect_pneumothorax * 100:.1f}%\")"
   ],
   "metadata": {
    "collapsed": false
   }
  },
  {
   "cell_type": "code",
   "execution_count": 32,
   "outputs": [
    {
     "data": {
      "text/plain": "                                 j Polarity  Coverage  Overlaps  Conflicts\nlung_normal                      0      [0]  0.078409  0.076705   0.003409\npleura_normal                    1      [0]  0.402273  0.369886   0.278409\ndetect_disease                   2   [0, 1]  0.039773  0.034659   0.028409\ndetect_infiltrates               3   [0, 1]  0.007386  0.004545   0.004545\ndetect_emphysema                 4      [1]  0.009091  0.007955   0.006818\ndetect_interstitial_prominence   5   [0, 1]  0.098864  0.092045   0.057955\ndetect_effusions                 6   [0, 1]  0.217614  0.213068   0.122727\ndetect_fluid                     7   [0, 1]  0.102841  0.102273   0.068182\ndetect_opacities                 8   [0, 1]  0.735795  0.560227   0.414773\ndetect_consolidation             9   [0, 1]  0.060227  0.049432   0.027841\ndetect_pneumothorax             10   [0, 1]  0.223864  0.220455   0.181818",
      "text/html": "<div>\n<style scoped>\n    .dataframe tbody tr th:only-of-type {\n        vertical-align: middle;\n    }\n\n    .dataframe tbody tr th {\n        vertical-align: top;\n    }\n\n    .dataframe thead th {\n        text-align: right;\n    }\n</style>\n<table border=\"1\" class=\"dataframe\">\n  <thead>\n    <tr style=\"text-align: right;\">\n      <th></th>\n      <th>j</th>\n      <th>Polarity</th>\n      <th>Coverage</th>\n      <th>Overlaps</th>\n      <th>Conflicts</th>\n    </tr>\n  </thead>\n  <tbody>\n    <tr>\n      <th>lung_normal</th>\n      <td>0</td>\n      <td>[0]</td>\n      <td>0.078409</td>\n      <td>0.076705</td>\n      <td>0.003409</td>\n    </tr>\n    <tr>\n      <th>pleura_normal</th>\n      <td>1</td>\n      <td>[0]</td>\n      <td>0.402273</td>\n      <td>0.369886</td>\n      <td>0.278409</td>\n    </tr>\n    <tr>\n      <th>detect_disease</th>\n      <td>2</td>\n      <td>[0, 1]</td>\n      <td>0.039773</td>\n      <td>0.034659</td>\n      <td>0.028409</td>\n    </tr>\n    <tr>\n      <th>detect_infiltrates</th>\n      <td>3</td>\n      <td>[0, 1]</td>\n      <td>0.007386</td>\n      <td>0.004545</td>\n      <td>0.004545</td>\n    </tr>\n    <tr>\n      <th>detect_emphysema</th>\n      <td>4</td>\n      <td>[1]</td>\n      <td>0.009091</td>\n      <td>0.007955</td>\n      <td>0.006818</td>\n    </tr>\n    <tr>\n      <th>detect_interstitial_prominence</th>\n      <td>5</td>\n      <td>[0, 1]</td>\n      <td>0.098864</td>\n      <td>0.092045</td>\n      <td>0.057955</td>\n    </tr>\n    <tr>\n      <th>detect_effusions</th>\n      <td>6</td>\n      <td>[0, 1]</td>\n      <td>0.217614</td>\n      <td>0.213068</td>\n      <td>0.122727</td>\n    </tr>\n    <tr>\n      <th>detect_fluid</th>\n      <td>7</td>\n      <td>[0, 1]</td>\n      <td>0.102841</td>\n      <td>0.102273</td>\n      <td>0.068182</td>\n    </tr>\n    <tr>\n      <th>detect_opacities</th>\n      <td>8</td>\n      <td>[0, 1]</td>\n      <td>0.735795</td>\n      <td>0.560227</td>\n      <td>0.414773</td>\n    </tr>\n    <tr>\n      <th>detect_consolidation</th>\n      <td>9</td>\n      <td>[0, 1]</td>\n      <td>0.060227</td>\n      <td>0.049432</td>\n      <td>0.027841</td>\n    </tr>\n    <tr>\n      <th>detect_pneumothorax</th>\n      <td>10</td>\n      <td>[0, 1]</td>\n      <td>0.223864</td>\n      <td>0.220455</td>\n      <td>0.181818</td>\n    </tr>\n  </tbody>\n</table>\n</div>"
     },
     "execution_count": 32,
     "metadata": {},
     "output_type": "execute_result"
    }
   ],
   "source": [
    "from snorkel.labeling import LFAnalysis\n",
    "\n",
    "LFAnalysis(L=L_train, lfs=lfs).lf_summary()"
   ],
   "metadata": {
    "collapsed": false
   }
  },
  {
   "cell_type": "code",
   "execution_count": 33,
   "outputs": [
    {
     "name": "stderr",
     "output_type": "stream",
     "text": [
      "INFO:root:Computing O...\n",
      "INFO:root:Estimating \\mu...\n",
      "  0%|          | 0/500 [00:00<?, ?epoch/s]INFO:root:[0 epochs]: TRAIN:[loss=0.413]\n",
      "INFO:root:[100 epochs]: TRAIN:[loss=0.024]\n",
      "INFO:root:[200 epochs]: TRAIN:[loss=0.012]\n",
      "INFO:root:[300 epochs]: TRAIN:[loss=0.011]\n",
      "INFO:root:[400 epochs]: TRAIN:[loss=0.011]\n",
      "100%|██████████| 500/500 [00:00<00:00, 5759.56epoch/s]\n",
      "INFO:root:Finished Training\n"
     ]
    }
   ],
   "source": [
    "from snorkel.labeling.model import LabelModel\n",
    "\n",
    "label_model = LabelModel(cardinality=2, verbose=True)\n",
    "label_model.fit(L_train=L_train, n_epochs=500, log_freq=100, seed=123)"
   ],
   "metadata": {
    "collapsed": false
   }
  },
  {
   "cell_type": "code",
   "execution_count": 34,
   "outputs": [],
   "source": [
    "from snorkel.labeling import filter_unlabeled_dataframe\n",
    "from snorkel.utils import probs_to_preds\n",
    "\n",
    "train_probs = label_model.predict_proba(L_train)\n",
    "\n",
    "train_df_filtered, train_probs_filtered = filter_unlabeled_dataframe(\n",
    "    X=train_df, y=train_probs, L=L_train\n",
    ")\n",
    "\n",
    "train_preds = probs_to_preds(train_probs_filtered)"
   ],
   "metadata": {
    "collapsed": false
   }
  },
  {
   "cell_type": "code",
   "execution_count": 35,
   "outputs": [
    {
     "data": {
      "text/plain": " 1    625\n-1    581\n 0    554\nName: label, dtype: int64"
     },
     "execution_count": 35,
     "metadata": {},
     "output_type": "execute_result"
    }
   ],
   "source": [
    "from snorkel.labeling.model import MajorityLabelVoter\n",
    "\n",
    "# compare to majority vote as baseline\n",
    "majority_model = MajorityLabelVoter()\n",
    "train_maj_preds = majority_model.predict(L=L_train)\n",
    "\n",
    "train_df_maj = train_df.copy()\n",
    "train_df_maj[\"label\"] = train_maj_preds\n",
    "#train_df_maj_filtered = train_df_maj[train_df_maj[\"label\"] != -1]\n",
    "\n",
    "train_df_maj[\"label\"].value_counts()"
   ],
   "metadata": {
    "collapsed": false
   }
  },
  {
   "cell_type": "code",
   "execution_count": 36,
   "outputs": [
    {
     "data": {
      "text/plain": "      note_num  label                                               text  \\\n124        125      1  tubes and catheters: none. central airways: no...   \n125        126     -1  tubes and catheters: none. central airways: no...   \n126        127      1  tubes and catheters: none. lungs/pleura/pleura...   \n127        128      1  tubes and catheters: none. central airways: no...   \n128        129      1  tubes and catheters: none. central airways: no...   \n...        ...    ...                                                ...   \n1889      1890     -1  tubes and catheters: none. central airways: no...   \n1890      1891      1  tubes and catheters: none. central airways: no...   \n1891      1892     -1  tubes and catheters: none. central airways: no...   \n1892      1893      1  tubes and catheters: none. central airways: no...   \n1893      1894      0  tubes and catheters: none. central airways: no...   \n\n      lung_startpos  pleural1_startpos  pleural2_startpos  pleural3_startpos  \\\n124              -1                 -1                 58                 -1   \n125              52                 -1                159                 -1   \n126              -1                 -1                 33                 -1   \n127              -1                 58                 -1                 -1   \n128              -1                 -1                 58                 -1   \n...             ...                ...                ...                ...   \n1889             52                 -1                160                 -1   \n1890             -1                 -1                 58                 -1   \n1891             52                 -1                107                 -1   \n1892             -1                 -1                 58                 -1   \n1893             -1                 -1                 -1                 -1   \n\n      pleural4_startpos  pleural5_startpos  pleural6_startpos  \\\n124                  -1                 52                 -1   \n125                  -1                 -1                 -1   \n126                  -1                 27                 -1   \n127                  -1                 -1                 52   \n128                  -1                 52                 -1   \n...                 ...                ...                ...   \n1889                 -1                 -1                 -1   \n1890                 -1                 52                 -1   \n1891                 -1                 -1                 -1   \n1892                 -1                 52                 -1   \n1893                 52                 -1                 -1   \n\n      heart1_startpos  heart2_startpos  airway1_startpos  thorax1_startpos  \\\n124                -1              285                27                -1   \n125                -1              189                27                -1   \n126                -1               97                -1                -1   \n127                -1              162                27                -1   \n128                -1              139                27                -1   \n...               ...              ...               ...               ...   \n1889               -1              190                27                -1   \n1890               -1              190                27                -1   \n1891               -1              137                27                -1   \n1892               -1              169                27                -1   \n1893               -1              183                27                -1   \n\n      thorax2_startpos  bones1_startpos  \\\n124                 -1               -1   \n125                 -1               -1   \n126                 -1               -1   \n127                 -1               -1   \n128                 -1               -1   \n...                ...              ...   \n1889                -1               -1   \n1890                -1               -1   \n1891                -1               -1   \n1892                -1               -1   \n1893                -1              266   \n\n                                              lung_text  \\\n124                                                       \n125   lungs: bilateral lower lobe infiltrates on thi...   \n126                                                       \n127                                                       \n128                                                       \n...                                                 ...   \n1889  lungs: hypoaeration. increased interstitial ma...   \n1890                                                      \n1891  lungs: diffuse patchy opacities within the rig...   \n1892                                                      \n1893                                                      \n\n                                            pleura_text  pleura_wordCount  \\\n124   lungs/pleura/pleural space: interstitial promi...                24   \n125                      pleura/pleural space: normal.                  1   \n126   lungs/pleura/pleural space: normal lung volume...                 5   \n127   lungs/pleura: bibasilar patchy airspace opacit...                11   \n128   lungs/pleura/pleural space: increasing airspac...                 8   \n...                                                 ...               ...   \n1889                     pleura/pleural space: normal.                  1   \n1890  lungs/pleura/pleural space: low lung volumes w...                15   \n1891                     pleura/pleural space: normal.                  1   \n1892  lungs/pleura/pleural space: significant increa...                13   \n1893  lungs/pleural space: mild diffuse interstitial...                14   \n\n      lung_wordCount  \n124                0  \n125               14  \n126                0  \n127                0  \n128                0  \n...              ...  \n1889              13  \n1890               0  \n1891               7  \n1892               0  \n1893               0  \n\n[1760 rows x 20 columns]",
      "text/html": "<div>\n<style scoped>\n    .dataframe tbody tr th:only-of-type {\n        vertical-align: middle;\n    }\n\n    .dataframe tbody tr th {\n        vertical-align: top;\n    }\n\n    .dataframe thead th {\n        text-align: right;\n    }\n</style>\n<table border=\"1\" class=\"dataframe\">\n  <thead>\n    <tr style=\"text-align: right;\">\n      <th></th>\n      <th>note_num</th>\n      <th>label</th>\n      <th>text</th>\n      <th>lung_startpos</th>\n      <th>pleural1_startpos</th>\n      <th>pleural2_startpos</th>\n      <th>pleural3_startpos</th>\n      <th>pleural4_startpos</th>\n      <th>pleural5_startpos</th>\n      <th>pleural6_startpos</th>\n      <th>heart1_startpos</th>\n      <th>heart2_startpos</th>\n      <th>airway1_startpos</th>\n      <th>thorax1_startpos</th>\n      <th>thorax2_startpos</th>\n      <th>bones1_startpos</th>\n      <th>lung_text</th>\n      <th>pleura_text</th>\n      <th>pleura_wordCount</th>\n      <th>lung_wordCount</th>\n    </tr>\n  </thead>\n  <tbody>\n    <tr>\n      <th>124</th>\n      <td>125</td>\n      <td>1</td>\n      <td>tubes and catheters: none. central airways: no...</td>\n      <td>-1</td>\n      <td>-1</td>\n      <td>58</td>\n      <td>-1</td>\n      <td>-1</td>\n      <td>52</td>\n      <td>-1</td>\n      <td>-1</td>\n      <td>285</td>\n      <td>27</td>\n      <td>-1</td>\n      <td>-1</td>\n      <td>-1</td>\n      <td></td>\n      <td>lungs/pleura/pleural space: interstitial promi...</td>\n      <td>24</td>\n      <td>0</td>\n    </tr>\n    <tr>\n      <th>125</th>\n      <td>126</td>\n      <td>-1</td>\n      <td>tubes and catheters: none. central airways: no...</td>\n      <td>52</td>\n      <td>-1</td>\n      <td>159</td>\n      <td>-1</td>\n      <td>-1</td>\n      <td>-1</td>\n      <td>-1</td>\n      <td>-1</td>\n      <td>189</td>\n      <td>27</td>\n      <td>-1</td>\n      <td>-1</td>\n      <td>-1</td>\n      <td>lungs: bilateral lower lobe infiltrates on thi...</td>\n      <td>pleura/pleural space: normal.</td>\n      <td>1</td>\n      <td>14</td>\n    </tr>\n    <tr>\n      <th>126</th>\n      <td>127</td>\n      <td>1</td>\n      <td>tubes and catheters: none. lungs/pleura/pleura...</td>\n      <td>-1</td>\n      <td>-1</td>\n      <td>33</td>\n      <td>-1</td>\n      <td>-1</td>\n      <td>27</td>\n      <td>-1</td>\n      <td>-1</td>\n      <td>97</td>\n      <td>-1</td>\n      <td>-1</td>\n      <td>-1</td>\n      <td>-1</td>\n      <td></td>\n      <td>lungs/pleura/pleural space: normal lung volume...</td>\n      <td>5</td>\n      <td>0</td>\n    </tr>\n    <tr>\n      <th>127</th>\n      <td>128</td>\n      <td>1</td>\n      <td>tubes and catheters: none. central airways: no...</td>\n      <td>-1</td>\n      <td>58</td>\n      <td>-1</td>\n      <td>-1</td>\n      <td>-1</td>\n      <td>-1</td>\n      <td>52</td>\n      <td>-1</td>\n      <td>162</td>\n      <td>27</td>\n      <td>-1</td>\n      <td>-1</td>\n      <td>-1</td>\n      <td></td>\n      <td>lungs/pleura: bibasilar patchy airspace opacit...</td>\n      <td>11</td>\n      <td>0</td>\n    </tr>\n    <tr>\n      <th>128</th>\n      <td>129</td>\n      <td>1</td>\n      <td>tubes and catheters: none. central airways: no...</td>\n      <td>-1</td>\n      <td>-1</td>\n      <td>58</td>\n      <td>-1</td>\n      <td>-1</td>\n      <td>52</td>\n      <td>-1</td>\n      <td>-1</td>\n      <td>139</td>\n      <td>27</td>\n      <td>-1</td>\n      <td>-1</td>\n      <td>-1</td>\n      <td></td>\n      <td>lungs/pleura/pleural space: increasing airspac...</td>\n      <td>8</td>\n      <td>0</td>\n    </tr>\n    <tr>\n      <th>...</th>\n      <td>...</td>\n      <td>...</td>\n      <td>...</td>\n      <td>...</td>\n      <td>...</td>\n      <td>...</td>\n      <td>...</td>\n      <td>...</td>\n      <td>...</td>\n      <td>...</td>\n      <td>...</td>\n      <td>...</td>\n      <td>...</td>\n      <td>...</td>\n      <td>...</td>\n      <td>...</td>\n      <td>...</td>\n      <td>...</td>\n      <td>...</td>\n      <td>...</td>\n    </tr>\n    <tr>\n      <th>1889</th>\n      <td>1890</td>\n      <td>-1</td>\n      <td>tubes and catheters: none. central airways: no...</td>\n      <td>52</td>\n      <td>-1</td>\n      <td>160</td>\n      <td>-1</td>\n      <td>-1</td>\n      <td>-1</td>\n      <td>-1</td>\n      <td>-1</td>\n      <td>190</td>\n      <td>27</td>\n      <td>-1</td>\n      <td>-1</td>\n      <td>-1</td>\n      <td>lungs: hypoaeration. increased interstitial ma...</td>\n      <td>pleura/pleural space: normal.</td>\n      <td>1</td>\n      <td>13</td>\n    </tr>\n    <tr>\n      <th>1890</th>\n      <td>1891</td>\n      <td>1</td>\n      <td>tubes and catheters: none. central airways: no...</td>\n      <td>-1</td>\n      <td>-1</td>\n      <td>58</td>\n      <td>-1</td>\n      <td>-1</td>\n      <td>52</td>\n      <td>-1</td>\n      <td>-1</td>\n      <td>190</td>\n      <td>27</td>\n      <td>-1</td>\n      <td>-1</td>\n      <td>-1</td>\n      <td></td>\n      <td>lungs/pleura/pleural space: low lung volumes w...</td>\n      <td>15</td>\n      <td>0</td>\n    </tr>\n    <tr>\n      <th>1891</th>\n      <td>1892</td>\n      <td>-1</td>\n      <td>tubes and catheters: none. central airways: no...</td>\n      <td>52</td>\n      <td>-1</td>\n      <td>107</td>\n      <td>-1</td>\n      <td>-1</td>\n      <td>-1</td>\n      <td>-1</td>\n      <td>-1</td>\n      <td>137</td>\n      <td>27</td>\n      <td>-1</td>\n      <td>-1</td>\n      <td>-1</td>\n      <td>lungs: diffuse patchy opacities within the rig...</td>\n      <td>pleura/pleural space: normal.</td>\n      <td>1</td>\n      <td>7</td>\n    </tr>\n    <tr>\n      <th>1892</th>\n      <td>1893</td>\n      <td>1</td>\n      <td>tubes and catheters: none. central airways: no...</td>\n      <td>-1</td>\n      <td>-1</td>\n      <td>58</td>\n      <td>-1</td>\n      <td>-1</td>\n      <td>52</td>\n      <td>-1</td>\n      <td>-1</td>\n      <td>169</td>\n      <td>27</td>\n      <td>-1</td>\n      <td>-1</td>\n      <td>-1</td>\n      <td></td>\n      <td>lungs/pleura/pleural space: significant increa...</td>\n      <td>13</td>\n      <td>0</td>\n    </tr>\n    <tr>\n      <th>1893</th>\n      <td>1894</td>\n      <td>0</td>\n      <td>tubes and catheters: none. central airways: no...</td>\n      <td>-1</td>\n      <td>-1</td>\n      <td>-1</td>\n      <td>-1</td>\n      <td>52</td>\n      <td>-1</td>\n      <td>-1</td>\n      <td>-1</td>\n      <td>183</td>\n      <td>27</td>\n      <td>-1</td>\n      <td>-1</td>\n      <td>266</td>\n      <td></td>\n      <td>lungs/pleural space: mild diffuse interstitial...</td>\n      <td>14</td>\n      <td>0</td>\n    </tr>\n  </tbody>\n</table>\n<p>1760 rows × 20 columns</p>\n</div>"
     },
     "execution_count": 36,
     "metadata": {},
     "output_type": "execute_result"
    }
   ],
   "source": [
    "train_df_maj"
   ],
   "metadata": {
    "collapsed": false
   }
  },
  {
   "cell_type": "code",
   "execution_count": 37,
   "outputs": [
    {
     "data": {
      "text/plain": "1729"
     },
     "execution_count": 37,
     "metadata": {},
     "output_type": "execute_result"
    }
   ],
   "source": [
    "len(train_preds)"
   ],
   "metadata": {
    "collapsed": false
   }
  },
  {
   "cell_type": "code",
   "execution_count": 38,
   "outputs": [],
   "source": [
    "labeled_df = pd.DataFrame({\n",
    "    \"note_num\": train_df_filtered[\"note_num\"],\n",
    "    \"label\": train_preds,\n",
    "    \"text\": train_df_filtered[\"text\"]\n",
    "})"
   ],
   "metadata": {
    "collapsed": false
   }
  },
  {
   "cell_type": "code",
   "execution_count": 39,
   "outputs": [
    {
     "data": {
      "text/plain": "      note_num  label                                               text\n124        125      1  tubes and catheters: none. central airways: no...\n125        126      0  tubes and catheters: none. central airways: no...\n126        127      1  tubes and catheters: none. lungs/pleura/pleura...\n127        128      1  tubes and catheters: none. central airways: no...\n128        129      1  tubes and catheters: none. central airways: no...\n...        ...    ...                                                ...\n1889      1890      0  tubes and catheters: none. central airways: no...\n1890      1891      1  tubes and catheters: none. central airways: no...\n1891      1892      0  tubes and catheters: none. central airways: no...\n1892      1893      0  tubes and catheters: none. central airways: no...\n1893      1894      1  tubes and catheters: none. central airways: no...\n\n[1729 rows x 3 columns]",
      "text/html": "<div>\n<style scoped>\n    .dataframe tbody tr th:only-of-type {\n        vertical-align: middle;\n    }\n\n    .dataframe tbody tr th {\n        vertical-align: top;\n    }\n\n    .dataframe thead th {\n        text-align: right;\n    }\n</style>\n<table border=\"1\" class=\"dataframe\">\n  <thead>\n    <tr style=\"text-align: right;\">\n      <th></th>\n      <th>note_num</th>\n      <th>label</th>\n      <th>text</th>\n    </tr>\n  </thead>\n  <tbody>\n    <tr>\n      <th>124</th>\n      <td>125</td>\n      <td>1</td>\n      <td>tubes and catheters: none. central airways: no...</td>\n    </tr>\n    <tr>\n      <th>125</th>\n      <td>126</td>\n      <td>0</td>\n      <td>tubes and catheters: none. central airways: no...</td>\n    </tr>\n    <tr>\n      <th>126</th>\n      <td>127</td>\n      <td>1</td>\n      <td>tubes and catheters: none. lungs/pleura/pleura...</td>\n    </tr>\n    <tr>\n      <th>127</th>\n      <td>128</td>\n      <td>1</td>\n      <td>tubes and catheters: none. central airways: no...</td>\n    </tr>\n    <tr>\n      <th>128</th>\n      <td>129</td>\n      <td>1</td>\n      <td>tubes and catheters: none. central airways: no...</td>\n    </tr>\n    <tr>\n      <th>...</th>\n      <td>...</td>\n      <td>...</td>\n      <td>...</td>\n    </tr>\n    <tr>\n      <th>1889</th>\n      <td>1890</td>\n      <td>0</td>\n      <td>tubes and catheters: none. central airways: no...</td>\n    </tr>\n    <tr>\n      <th>1890</th>\n      <td>1891</td>\n      <td>1</td>\n      <td>tubes and catheters: none. central airways: no...</td>\n    </tr>\n    <tr>\n      <th>1891</th>\n      <td>1892</td>\n      <td>0</td>\n      <td>tubes and catheters: none. central airways: no...</td>\n    </tr>\n    <tr>\n      <th>1892</th>\n      <td>1893</td>\n      <td>0</td>\n      <td>tubes and catheters: none. central airways: no...</td>\n    </tr>\n    <tr>\n      <th>1893</th>\n      <td>1894</td>\n      <td>1</td>\n      <td>tubes and catheters: none. central airways: no...</td>\n    </tr>\n  </tbody>\n</table>\n<p>1729 rows × 3 columns</p>\n</div>"
     },
     "execution_count": 39,
     "metadata": {},
     "output_type": "execute_result"
    }
   ],
   "source": [
    "labeled_df"
   ],
   "metadata": {
    "collapsed": false
   }
  },
  {
   "cell_type": "code",
   "execution_count": 40,
   "outputs": [
    {
     "data": {
      "text/plain": "1    998\n0    731\nName: label, dtype: int64"
     },
     "execution_count": 40,
     "metadata": {},
     "output_type": "execute_result"
    }
   ],
   "source": [
    "labeled_df[\"label\"].value_counts()"
   ],
   "metadata": {
    "collapsed": false
   }
  },
  {
   "cell_type": "code",
   "execution_count": 41,
   "outputs": [],
   "source": [
    "import numpy as np\n",
    "\n",
    "def compute_label(x):\n",
    "    # If all abstain, then abstain\n",
    "    if all([score == -1 for score in x]):\n",
    "        return -1\n",
    "    # If any abnormal then output abnormal label\n",
    "    elif any([score == 1 for score in x if score != -1]):\n",
    "        return 1\n",
    "    # If all normal then output normal label\n",
    "    elif all([score == 0 for score in x if score != -1]):\n",
    "        return 0\n",
    "    # ERROR code (this shouldn't happen)\n",
    "    else:\n",
    "        return -99\n",
    "\n",
    "manual_preds = np.apply_along_axis(compute_label, axis=1, arr=L_train)"
   ],
   "metadata": {
    "collapsed": false
   }
  },
  {
   "cell_type": "code",
   "execution_count": 42,
   "outputs": [
    {
     "data": {
      "text/plain": "(array([-1,  0,  1]), array([  31,  338, 1391]))"
     },
     "execution_count": 42,
     "metadata": {},
     "output_type": "execute_result"
    }
   ],
   "source": [
    "np.unique(manual_preds, return_counts=True)"
   ],
   "metadata": {
    "collapsed": false
   }
  },
  {
   "cell_type": "code",
   "execution_count": 43,
   "outputs": [
    {
     "data": {
      "text/plain": "      note_num  label                                               text\n124        125      1  tubes and catheters: none. central airways: no...\n125        126      1  tubes and catheters: none. central airways: no...\n126        127      1  tubes and catheters: none. lungs/pleura/pleura...\n127        128      1  tubes and catheters: none. central airways: no...\n128        129      1  tubes and catheters: none. central airways: no...\n...        ...    ...                                                ...\n1889      1890      1  tubes and catheters: none. central airways: no...\n1890      1891      1  tubes and catheters: none. central airways: no...\n1891      1892      1  tubes and catheters: none. central airways: no...\n1892      1893      1  tubes and catheters: none. central airways: no...\n1893      1894      1  tubes and catheters: none. central airways: no...\n\n[1729 rows x 3 columns]",
      "text/html": "<div>\n<style scoped>\n    .dataframe tbody tr th:only-of-type {\n        vertical-align: middle;\n    }\n\n    .dataframe tbody tr th {\n        vertical-align: top;\n    }\n\n    .dataframe thead th {\n        text-align: right;\n    }\n</style>\n<table border=\"1\" class=\"dataframe\">\n  <thead>\n    <tr style=\"text-align: right;\">\n      <th></th>\n      <th>note_num</th>\n      <th>label</th>\n      <th>text</th>\n    </tr>\n  </thead>\n  <tbody>\n    <tr>\n      <th>124</th>\n      <td>125</td>\n      <td>1</td>\n      <td>tubes and catheters: none. central airways: no...</td>\n    </tr>\n    <tr>\n      <th>125</th>\n      <td>126</td>\n      <td>1</td>\n      <td>tubes and catheters: none. central airways: no...</td>\n    </tr>\n    <tr>\n      <th>126</th>\n      <td>127</td>\n      <td>1</td>\n      <td>tubes and catheters: none. lungs/pleura/pleura...</td>\n    </tr>\n    <tr>\n      <th>127</th>\n      <td>128</td>\n      <td>1</td>\n      <td>tubes and catheters: none. central airways: no...</td>\n    </tr>\n    <tr>\n      <th>128</th>\n      <td>129</td>\n      <td>1</td>\n      <td>tubes and catheters: none. central airways: no...</td>\n    </tr>\n    <tr>\n      <th>...</th>\n      <td>...</td>\n      <td>...</td>\n      <td>...</td>\n    </tr>\n    <tr>\n      <th>1889</th>\n      <td>1890</td>\n      <td>1</td>\n      <td>tubes and catheters: none. central airways: no...</td>\n    </tr>\n    <tr>\n      <th>1890</th>\n      <td>1891</td>\n      <td>1</td>\n      <td>tubes and catheters: none. central airways: no...</td>\n    </tr>\n    <tr>\n      <th>1891</th>\n      <td>1892</td>\n      <td>1</td>\n      <td>tubes and catheters: none. central airways: no...</td>\n    </tr>\n    <tr>\n      <th>1892</th>\n      <td>1893</td>\n      <td>1</td>\n      <td>tubes and catheters: none. central airways: no...</td>\n    </tr>\n    <tr>\n      <th>1893</th>\n      <td>1894</td>\n      <td>1</td>\n      <td>tubes and catheters: none. central airways: no...</td>\n    </tr>\n  </tbody>\n</table>\n<p>1729 rows × 3 columns</p>\n</div>"
     },
     "execution_count": 43,
     "metadata": {},
     "output_type": "execute_result"
    }
   ],
   "source": [
    "manual_labeled_df = pd.DataFrame({\n",
    "    \"note_num\": train_df[\"note_num\"],\n",
    "    \"label\": manual_preds,\n",
    "    \"text\": train_df[\"text\"]\n",
    "}).query(\"label != -1\")\n",
    "\n",
    "manual_labeled_df"
   ],
   "metadata": {
    "collapsed": false
   }
  },
  {
   "cell_type": "code",
   "execution_count": 44,
   "outputs": [],
   "source": [
    "manual_labeled_df.to_csv(\"/Users/acorbett1/Library/CloudStorage/Box-Box/URCoursework/DataScience/NLP_CSC447/project/rule_labelled_training.csv\",index=False)"
   ],
   "metadata": {
    "collapsed": false
   }
  },
  {
   "cell_type": "code",
   "execution_count": 47,
   "outputs": [],
   "source": [
    "eval_df.to_csv(\"/Users/acorbett1/Library/CloudStorage/Box-Box/URCoursework/DataScience/NLP_CSC447/project/eval.csv\",index=False)"
   ],
   "metadata": {
    "collapsed": false
   }
  },
  {
   "cell_type": "code",
   "execution_count": null,
   "outputs": [],
   "source": [],
   "metadata": {
    "collapsed": false
   }
  }
 ],
 "metadata": {
  "kernelspec": {
   "display_name": "Python 3",
   "language": "python",
   "name": "python3"
  },
  "language_info": {
   "codemirror_mode": {
    "name": "ipython",
    "version": 2
   },
   "file_extension": ".py",
   "mimetype": "text/x-python",
   "name": "python",
   "nbconvert_exporter": "python",
   "pygments_lexer": "ipython2",
   "version": "2.7.6"
  }
 },
 "nbformat": 4,
 "nbformat_minor": 0
}
